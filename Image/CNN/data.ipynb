{
 "cells": [
  {
   "cell_type": "code",
   "execution_count": 43,
   "metadata": {},
   "outputs": [],
   "source": [
    "import pandas as pd\n",
    "import shutil\n",
    "import os \n",
    "import random"
   ]
  },
  {
   "cell_type": "code",
   "execution_count": 44,
   "metadata": {},
   "outputs": [
    {
     "data": {
      "text/plain": [
       "['models', 'seg_pred', 'seg_test', 'seg_train', 'seg_val']"
      ]
     },
     "execution_count": 44,
     "metadata": {},
     "output_type": "execute_result"
    }
   ],
   "source": [
    "path_data = './data'\n",
    "os.listdir(path_data)"
   ]
  },
  {
   "cell_type": "code",
   "execution_count": 45,
   "metadata": {},
   "outputs": [],
   "source": [
    "data_path = \"data/seg_train/seg_train/\"\n",
    "train_path = os.path.join(path_data,'train_df/seg_train')\n",
    "val_path = os.path.join(path_data,'val_df/seg_val')"
   ]
  },
  {
   "cell_type": "code",
   "execution_count": 46,
   "metadata": {},
   "outputs": [],
   "source": [
    "categories = os.listdir(data_path)"
   ]
  },
  {
   "cell_type": "code",
   "execution_count": 52,
   "metadata": {},
   "outputs": [],
   "source": [
    "for char in categories:\n",
    "    os.makedirs(os.path.join(val_path, char), exist_ok=True)\n",
    "for char in categories:\n",
    "    os.makedirs(os.path.join(train_path, char), exist_ok=True)\n"
   ]
  },
  {
   "cell_type": "code",
   "execution_count": 48,
   "metadata": {},
   "outputs": [],
   "source": [
    "\n",
    "data = {}\n",
    "\n",
    "for category in categories:\n",
    "    path = f'data/seg_train/seg_train/{category}'  \n",
    "    try:\n",
    "        data[category] = os.listdir(path)\n",
    "    except FileNotFoundError as e:\n",
    "        print(f\"Error: {e}\")"
   ]
  },
  {
   "cell_type": "code",
   "execution_count": 49,
   "metadata": {},
   "outputs": [],
   "source": [
    "train_df = {}\n",
    "val_df = {}\n",
    "\n",
    "for category in categories:\n",
    "    path = f'data/seg_train/seg_train/{category}' \n",
    "    try:\n",
    "        temp = data[category]\n",
    "        random.shuffle(temp)\n",
    "        q70=int(len(temp)*.7)\n",
    "        train_df[category] = temp[:q70]\n",
    "        val_df[category] = temp[q70:]\n",
    "    except Exception as e:\n",
    "        print(f\"Error : {e}\")"
   ]
  },
  {
   "cell_type": "code",
   "execution_count": 58,
   "metadata": {},
   "outputs": [
    {
     "name": "stdout",
     "output_type": "stream",
     "text": [
      "train_df = buildings: 1533 files\n",
      "train_df = forest: 1589 files\n",
      "train_df = glacier: 1682 files\n",
      "train_df = mountain: 1758 files\n",
      "train_df = sea: 1591 files\n",
      "train_df = street: 1667 files\n",
      "val_df = buildings: 658 files\n",
      "val_df = forest: 682 files\n",
      "val_df = glacier: 722 files\n",
      "val_df = mountain: 754 files\n",
      "val_df = sea: 683 files\n",
      "val_df = street: 715 files\n"
     ]
    }
   ],
   "source": [
    "for category in categories:\n",
    "    for i in train_df[category]:\n",
    "        src_path = os.path.join(data_path, category, i)\n",
    "        dst_path = os.path.join(train_path, category, i)\n",
    "        shutil.copy(src_path,dst_path)\n",
    "    for i in val_df[category]:\n",
    "        src_path = os.path.join(data_path, category, i)\n",
    "        dst_path = os.path.join(val_path, category, i)\n",
    "        shutil.copy(src_path,dst_path)\n",
    "\n",
    "for category, files in train_df.items():\n",
    "    print(f\"train_df = {category}: {len(files)} files\")\n",
    "for category, files in val_df.items():\n",
    "    print(f\"val_df = {category}: {len(files)} files\")"
   ]
  }
 ],
 "metadata": {
  "kernelspec": {
   "display_name": "base",
   "language": "python",
   "name": "python3"
  },
  "language_info": {
   "codemirror_mode": {
    "name": "ipython",
    "version": 3
   },
   "file_extension": ".py",
   "mimetype": "text/x-python",
   "name": "python",
   "nbconvert_exporter": "python",
   "pygments_lexer": "ipython3",
   "version": "3.11.4"
  }
 },
 "nbformat": 4,
 "nbformat_minor": 2
}
