{
 "cells": [
  {
   "cell_type": "code",
   "execution_count": 46,
   "metadata": {},
   "outputs": [],
   "source": [
    "import pytesseract\n",
    "import cv2\n",
    "from PIL import Image"
   ]
  },
  {
   "cell_type": "code",
   "execution_count": 47,
   "metadata": {},
   "outputs": [],
   "source": [
    "pytesseract.pytesseract.tesseract_cmd = r'C:\\Program Files\\Tesseract-OCR\\tesseract.exe'"
   ]
  },
  {
   "cell_type": "code",
   "execution_count": 48,
   "metadata": {},
   "outputs": [
    {
     "name": "stdout",
     "output_type": "stream",
     "text": [
      "It was the best of\n",
      "times, it was the worst\n",
      "of times, it was the age\n",
      "of wisdom, it was the\n",
      "age of foolishness...\n",
      "\n",
      "This is the first line of\n",
      "this text example.\n",
      "\n",
      "This is the second line\n",
      "of the same text.\n",
      "\n",
      "iow TO WRITE ALT |\n",
      "TEXT AND IMAGE\n",
      "DESCRIPTIONS FOR —\n",
      "THE VISUALLY\n",
      "| IMPAIRED\n",
      "\n",
      ". : \\ \\\n",
      "\\\n",
      "\\ | love when\n",
      "I catch you\n",
      ". looking at me. .\n",
      "| |\n",
      "\n"
     ]
    }
   ],
   "source": [
    "data = [\"1.png\", \"2.png\", \"3.jpeg\", \"4.jpg\"]\n",
    "\n",
    "for path in data:\n",
    "    custom_config = r'--oem 3 --psm 6'\n",
    "    text = pytesseract.image_to_string(Image.open(path), config=custom_config)\n",
    "    print(text)\n"
   ]
  },
  {
   "cell_type": "code",
   "execution_count": 49,
   "metadata": {},
   "outputs": [
    {
     "name": "stdout",
     "output_type": "stream",
     "text": [
      "It was the best of\n",
      "times, it was the worst\n",
      "of times, it was the age\n",
      "of wisdom, it was the\n",
      "age of foolishness...\n",
      "\n",
      "This is the first line of\n",
      "this text example.\n",
      "\n",
      "This is the second line\n",
      "of the same text.\n",
      "\n",
      "iow TO WRITE ALT |\n",
      "TEXT AND IMAGE\n",
      "DESCRIPTIONS FOR\n",
      "THE VISUALLY\n",
      "IMPAIRED\n",
      "\n",
      "\\\n",
      "\n",
      "| love when\n",
      "I catch you\n",
      "looking at me.\n",
      "\n"
     ]
    }
   ],
   "source": [
    "for path in data:\n",
    "    img = cv2.imread(path)\n",
    "    # configurations\n",
    "    config = ('-l eng — oem 1 — psm 3')\n",
    "    # pytessercat\n",
    "    text = pytesseract.image_to_string(img, config=config)\n",
    "    print(text)\n"
   ]
  }
 ],
 "metadata": {
  "kernelspec": {
   "display_name": "Python 3",
   "language": "python",
   "name": "python3"
  },
  "language_info": {
   "codemirror_mode": {
    "name": "ipython",
    "version": 3
   },
   "file_extension": ".py",
   "mimetype": "text/x-python",
   "name": "python",
   "nbconvert_exporter": "python",
   "pygments_lexer": "ipython3",
   "version": "3.11.4"
  }
 },
 "nbformat": 4,
 "nbformat_minor": 2
}
